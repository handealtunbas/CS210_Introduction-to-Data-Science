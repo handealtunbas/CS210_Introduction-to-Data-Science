{
  "nbformat": 4,
  "nbformat_minor": 0,
  "metadata": {
    "colab": {
      "provenance": []
    },
    "kernelspec": {
      "name": "python3",
      "display_name": "Python 3"
    },
    "language_info": {
      "name": "python"
    }
  },
  "cells": [
    {
      "cell_type": "markdown",
      "source": [
        "Step:1 Loading and merging the datasets. As you can see the dates are not matching stock market has d-m-y structure, while samsung has y-m-d structure"
      ],
      "metadata": {
        "id": "ayuS31g9eHMX"
      }
    },
    {
      "cell_type": "code",
      "source": [
        "import pandas as pd\n",
        "\n",
        "# Load datasets\n",
        "stock_prices = pd.read_csv('Stock Market Dataset.csv')\n",
        "samsung_stock = pd.read_csv('005930.KS.csv')\n",
        "print(stock_prices.head())\n",
        "print(samsung_stock.head())\n"
      ],
      "metadata": {
        "colab": {
          "base_uri": "https://localhost:8080/"
        },
        "id": "KzNWKiN8jqog",
        "outputId": "920a7c2e-b3a0-4eee-b0b0-d46ef301e32f"
      },
      "execution_count": 45,
      "outputs": [
        {
          "output_type": "stream",
          "name": "stdout",
          "text": [
            "   Unnamed: 0        Date  Natural_Gas_Price  Natural_Gas_Vol.  \\\n",
            "0           0  02-02-2024              2.079               NaN   \n",
            "1           1  01-02-2024              2.050          161340.0   \n",
            "2           2  31-01-2024              2.100          142860.0   \n",
            "3           3  30-01-2024              2.077          139750.0   \n",
            "4           4  29-01-2024              2.490            3590.0   \n",
            "\n",
            "   Crude_oil_Price  Crude_oil_Vol.  Copper_Price  Copper_Vol. Bitcoin_Price  \\\n",
            "0            72.28             NaN        3.8215          NaN     43,194.70   \n",
            "1            73.82        577940.0        3.8535          NaN     43,081.40   \n",
            "2            75.85        344490.0        3.9060          NaN     42,580.50   \n",
            "3            77.82        347240.0        3.9110          NaN     42,946.20   \n",
            "4            76.78        331930.0        3.8790          NaN     43,299.80   \n",
            "\n",
            "   Bitcoin_Vol.  ... Berkshire_Price  Berkshire_Vol. Netflix_Price  \\\n",
            "0       42650.0  ...        5,89,498         10580.0        564.64   \n",
            "1       47690.0  ...        5,81,600          9780.0        567.51   \n",
            "2       56480.0  ...        5,78,020          9720.0        564.11   \n",
            "3       55130.0  ...        5,84,680          9750.0        562.85   \n",
            "4       45230.0  ...        5,78,800         13850.0        575.79   \n",
            "\n",
            "   Netflix_Vol. Amazon_Price  Amazon_Vol.  Meta_Price   Meta_Vol.  Gold_Price  \\\n",
            "0     4030000.0       171.81  117220000.0      474.99  84710000.0    2,053.70   \n",
            "1     3150000.0       159.28   66360000.0      394.78  25140000.0    2,071.10   \n",
            "2     4830000.0       155.20   49690000.0      390.14  20010000.0    2,067.40   \n",
            "3     6120000.0       159.00   42290000.0      400.06  18610000.0    2,050.90   \n",
            "4     6880000.0       161.26   42840000.0      401.02  17790000.0    2,034.90   \n",
            "\n",
            "   Gold_Vol.  \n",
            "0        NaN  \n",
            "1   260920.0  \n",
            "2   238370.0  \n",
            "3   214590.0  \n",
            "4     1780.0  \n",
            "\n",
            "[5 rows x 39 columns]\n",
            "         Date     Open     High      Low    Close     Adj Close    Volume\n",
            "0  2019-01-02  39400.0  39400.0  38550.0  38750.0  33776.156250   7847664\n",
            "1  2019-01-03  38300.0  38550.0  37450.0  37600.0  32773.761719  12471493\n",
            "2  2019-01-04  37450.0  37600.0  36850.0  37450.0  32643.011719  14108958\n",
            "3  2019-01-07  38000.0  38900.0  37800.0  38750.0  33776.156250  12748997\n",
            "4  2019-01-08  38000.0  39200.0  37950.0  38100.0  33209.574219  12756554\n"
          ]
        }
      ]
    },
    {
      "cell_type": "markdown",
      "source": [
        "Finding  common dates"
      ],
      "metadata": {
        "id": "iclVRip_m0Bl"
      }
    },
    {
      "cell_type": "code",
      "execution_count": 46,
      "metadata": {
        "colab": {
          "base_uri": "https://localhost:8080/"
        },
        "id": "6yeZvhiiduTm",
        "outputId": "5e0971dd-c96a-4687-c46a-0a3747ce8728"
      },
      "outputs": [
        {
          "output_type": "stream",
          "name": "stdout",
          "text": [
            "2019-02-04 00:00:00 2024-02-02 00:00:00\n",
            "2019-01-02 00:00:00 2024-03-28 00:00:00\n",
            "Common dates between stock_prices and samsung_stock: 1177\n"
          ]
        }
      ],
      "source": [
        "import pandas as pd\n",
        "\n",
        "# Load datasets\n",
        "stock_prices = pd.read_csv('Stock Market Dataset.csv')\n",
        "samsung_stock = pd.read_csv('005930.KS.csv')\n",
        "global_phone_sales = pd.read_csv('global_phone_sales.csv', delimiter=';')\n",
        "\n",
        "#Convert dates to allign with other datasets\n",
        "stock_prices['Date'] = pd.to_datetime(stock_prices['Date'], format='%d-%m-%Y')\n",
        "samsung_stock['Date'] = pd.to_datetime(samsung_stock['Date'], format='%Y-%m-%d')\n",
        "\n",
        "\n",
        "print(stock_prices['Date'].min(), stock_prices['Date'].max())\n",
        "print(samsung_stock['Date'].min(), samsung_stock['Date'].max())\n",
        "\n",
        "# Check for common dates\n",
        "common_dates_1 = pd.merge(stock_prices[['Date']], samsung_stock[['Date']], on='Date', how='inner')\n",
        "print(f\"Common dates between stock_prices and samsung_stock: {common_dates_1.shape[0]}\")\n",
        "\n",
        "\n",
        "\n",
        "\n",
        "\n"
      ]
    },
    {
      "cell_type": "markdown",
      "source": [
        "Converting the samsung stock values from KRW to USD"
      ],
      "metadata": {
        "id": "gTSC4fkcniIJ"
      }
    },
    {
      "cell_type": "code",
      "source": [
        "import pandas as pd\n",
        "\n",
        "# Load datasets\n",
        "stock_prices = pd.read_csv('Stock Market Dataset.csv')\n",
        "samsung_stock = pd.read_csv('005930.KS.csv')\n",
        "\n",
        "# Convert Date columns to datetime\n",
        "stock_prices['Date'] = pd.to_datetime(stock_prices['Date'], format='%d-%m-%Y')\n",
        "samsung_stock['Date'] = pd.to_datetime(samsung_stock['Date'], format='%Y-%m-%d')\n",
        "\n",
        "# Convert Samsung stock prices from KRW to USD\n",
        "conversion_rate_krw_to_usd = 0.00074\n",
        "samsung_stock[['Open', 'High', 'Low', 'Close', 'Adj Close']] *= conversion_rate_krw_to_usd\n",
        "\n",
        "# Ensure the converted values\n",
        "print(samsung_stock.head())\n"
      ],
      "metadata": {
        "colab": {
          "base_uri": "https://localhost:8080/"
        },
        "id": "v1PsqYDFjRXC",
        "outputId": "86565574-b168-4ddd-e93c-35c04a1e329f"
      },
      "execution_count": 47,
      "outputs": [
        {
          "output_type": "stream",
          "name": "stdout",
          "text": [
            "        Date    Open    High     Low   Close  Adj Close    Volume\n",
            "0 2019-01-02  29.156  29.156  28.527  28.675  24.994356   7847664\n",
            "1 2019-01-03  28.342  28.527  27.713  27.824  24.252584  12471493\n",
            "2 2019-01-04  27.713  27.824  27.269  27.713  24.155829  14108958\n",
            "3 2019-01-07  28.120  28.786  27.972  28.675  24.994356  12748997\n",
            "4 2019-01-08  28.120  29.008  28.083  28.194  24.575085  12756554\n"
          ]
        }
      ]
    },
    {
      "cell_type": "markdown",
      "source": [
        "Merging the Datasets"
      ],
      "metadata": {
        "id": "WrwzjXut6XHy"
      }
    },
    {
      "cell_type": "code",
      "source": [
        "import pandas as pd\n",
        "\n",
        "# Load datasets\n",
        "stock_prices = pd.read_csv('Stock Market Dataset.csv')\n",
        "samsung_stock = pd.read_csv('005930.KS.csv')\n",
        "\n",
        "# Convert Date columns to datetime\n",
        "stock_prices['Date'] = pd.to_datetime(stock_prices['Date'], format='%d-%m-%Y')\n",
        "samsung_stock['Date'] = pd.to_datetime(samsung_stock['Date'], format='%Y-%m-%d')\n",
        "\n",
        "# Convert Samsung stock prices from KRW to USD\n",
        "conversion_rate_krw_to_usd = 0.00074\n",
        "samsung_stock[['Open', 'High', 'Low', 'Close', 'Adj Close']] *= conversion_rate_krw_to_usd\n",
        "\n",
        "# Merge stock_prices and samsung_stock on Date\n",
        "merged_data = pd.merge(stock_prices, samsung_stock, on='Date', how='inner')\n",
        "\n",
        "# Inspect the merged dataset\n",
        "print(merged_data.head())\n",
        "print(merged_data.shape)\n"
      ],
      "metadata": {
        "colab": {
          "base_uri": "https://localhost:8080/"
        },
        "id": "1VbUD60t6cEA",
        "outputId": "9368267c-4548-4756-d295-a7ff8b9c31b2"
      },
      "execution_count": 23,
      "outputs": [
        {
          "output_type": "stream",
          "name": "stdout",
          "text": [
            "   Unnamed: 0       Date  Natural_Gas_Price  Natural_Gas_Vol.  \\\n",
            "0           0 2024-02-02              2.079               NaN   \n",
            "1           1 2024-02-01              2.050          161340.0   \n",
            "2           2 2024-01-31              2.100          142860.0   \n",
            "3           3 2024-01-30              2.077          139750.0   \n",
            "4           4 2024-01-29              2.490            3590.0   \n",
            "\n",
            "   Crude_oil_Price  Crude_oil_Vol.  Copper_Price  Copper_Vol. Bitcoin_Price  \\\n",
            "0            72.28             NaN        3.8215          NaN     43,194.70   \n",
            "1            73.82        577940.0        3.8535          NaN     43,081.40   \n",
            "2            75.85        344490.0        3.9060          NaN     42,580.50   \n",
            "3            77.82        347240.0        3.9110          NaN     42,946.20   \n",
            "4            76.78        331930.0        3.8790          NaN     43,299.80   \n",
            "\n",
            "   Bitcoin_Vol.  ... Meta_Price   Meta_Vol. Gold_Price  Gold_Vol.    Open  \\\n",
            "0       42650.0  ...     474.99  84710000.0   2,053.70        NaN  54.760   \n",
            "1       47690.0  ...     394.78  25140000.0   2,071.10   260920.0  54.020   \n",
            "2       56480.0  ...     390.14  20010000.0   2,067.40   238370.0  54.316   \n",
            "3       55130.0  ...     400.06  18610000.0   2,050.90   214590.0  55.500   \n",
            "4       45230.0  ...     401.02  17790000.0   2,034.90     1780.0  54.612   \n",
            "\n",
            "     High     Low   Close  Adj Close    Volume  \n",
            "0  55.648  54.538  55.648     55.648  14955881  \n",
            "1  54.908  53.946  54.464     54.464  19881033  \n",
            "2  54.760  53.650  53.798     53.798  15703560  \n",
            "3  55.722  54.538  54.982     54.982  12244418  \n",
            "4  55.648  54.390  55.056     55.056  13976521  \n",
            "\n",
            "[5 rows x 45 columns]\n",
            "(1177, 45)\n"
          ]
        }
      ]
    },
    {
      "cell_type": "markdown",
      "source": [
        "Supervised Learning Model for Samsung: Random Forest Regressor: Step 1 --> finding the optimal estimator value"
      ],
      "metadata": {
        "id": "D6TSqgBiqueF"
      }
    },
    {
      "cell_type": "code",
      "source": [
        "import pandas as pd\n",
        "from sklearn.model_selection import train_test_split, GridSearchCV\n",
        "from sklearn.ensemble import RandomForestRegressor\n",
        "from sklearn.metrics import mean_squared_error\n",
        "import matplotlib.pyplot as plt\n",
        "\n",
        "# Load datasets\n",
        "stock_prices = pd.read_csv('Stock Market Dataset.csv')\n",
        "samsung_stock = pd.read_csv('005930.KS.csv')\n",
        "\n",
        "# Convert Date columns to datetime\n",
        "stock_prices['Date'] = pd.to_datetime(stock_prices['Date'], format='%d-%m-%Y')\n",
        "samsung_stock['Date'] = pd.to_datetime(samsung_stock['Date'], format='%Y-%m-%d')\n",
        "\n",
        "# Convert Samsung stock prices from KRW to USD\n",
        "conversion_rate_krw_to_usd = 0.00074\n",
        "samsung_stock[['Open', 'High', 'Low', 'Close', 'Adj Close']] *= conversion_rate_krw_to_usd\n",
        "\n",
        "# Merge stock_prices and samsung_stock on Date\n",
        "merged_data = pd.merge(stock_prices, samsung_stock, on='Date', how='inner')\n",
        "\n",
        "# Select features and target variable for ML\n",
        "X = merged_data[['Copper_Price', 'Silver_Price', 'Apple_Price']]  # features\n",
        "y = merged_data['Close']  # Target variable for Samsung stock price in USD\n",
        "\n",
        "# Split the data\n",
        "X_train, X_test, y_train, y_test = train_test_split(X, y, test_size=0.2, random_state=42)\n",
        "\n",
        "# Initialize the Random Forest model\n",
        "rf = RandomForestRegressor(random_state=42)\n",
        "\n",
        "# Define a range of n_estimators to search\n",
        "param_grid = {'n_estimators': [50, 100, 150, 200, 250, 300]}\n",
        "\n",
        "# Perform grid search with cross-validation\n",
        "grid_search = GridSearchCV(rf, param_grid, cv=5, scoring='neg_mean_squared_error', n_jobs=-1)\n",
        "grid_search.fit(X_train, y_train)\n",
        "\n",
        "# Get the best number of estimators\n",
        "best_n_estimators = grid_search.best_params_['n_estimators']\n",
        "print(\"Best number of estimators:\", best_n_estimators)\n",
        "\n",
        "# Train the Random Forest model with the optimal number of estimators\n",
        "optimal_rf = RandomForestRegressor(n_estimators=best_n_estimators, random_state=42)\n",
        "optimal_rf.fit(X_train, y_train)\n",
        "\n",
        "# Predict on the test set\n",
        "rf_predictions = optimal_rf.predict(X_test)\n",
        "\n",
        "# Evaluate the model\n",
        "rf_mse = mean_squared_error(y_test, rf_predictions)\n",
        "print(f'Random Forest Mean Squared Error for Samsung: {rf_mse}')\n",
        "\n",
        "# Feature importance\n",
        "importances = optimal_rf.feature_importances_\n",
        "feature_names = X.columns\n",
        "feature_importance_df = pd.DataFrame({'feature': feature_names, 'importance': importances}).sort_values(by='importance', ascending=False)\n",
        "print(feature_importance_df)\n",
        "\n",
        "# Plotting feature importances\n",
        "plt.figure(figsize=(10, 6))\n",
        "plt.title('Feature Importances')\n",
        "plt.bar(feature_importance_df['feature'], feature_importance_df['importance'], color='b', align='center')\n",
        "plt.xlabel('Feature')\n",
        "plt.ylabel('Importance')\n",
        "plt.show()\n"
      ],
      "metadata": {
        "colab": {
          "base_uri": "https://localhost:8080/",
          "height": 671
        },
        "id": "ZE9o2PUfqu_R",
        "outputId": "69085de3-d647-4e59-9e73-594846403950"
      },
      "execution_count": 55,
      "outputs": [
        {
          "output_type": "stream",
          "name": "stdout",
          "text": [
            "Best number of estimators: 300\n",
            "Random Forest Mean Squared Error for Samsung: 2.590846147911629\n",
            "        feature  importance\n",
            "0  Copper_Price    0.693673\n",
            "2   Apple_Price    0.162856\n",
            "1  Silver_Price    0.143470\n"
          ]
        },
        {
          "output_type": "display_data",
          "data": {
            "text/plain": [
              "<Figure size 1000x600 with 1 Axes>"
            ],
            "image/png": "[encoded data removed]"
          },
          "metadata": {}
        }
      ]
    },
    {
      "cell_type": "markdown",
      "source": [
        "Supervised Learning Model for Samsung: Random Forest Regressor: Step 2 --> applying the estimator value found above"
      ],
      "metadata": {
        "id": "FXnWs3bi628O"
      }
    },
    {
      "cell_type": "code",
      "source": [
        "import pandas as pd\n",
        "\n",
        "# Load datasets\n",
        "stock_prices = pd.read_csv('Stock Market Dataset.csv')\n",
        "samsung_stock = pd.read_csv('005930.KS.csv')\n",
        "\n",
        "# Convert Date columns to datetime\n",
        "stock_prices['Date'] = pd.to_datetime(stock_prices['Date'], format='%d-%m-%Y')\n",
        "samsung_stock['Date'] = pd.to_datetime(samsung_stock['Date'], format='%Y-%m-%d')\n",
        "\n",
        "# Convert Samsung stock prices from KRW to USD\n",
        "conversion_rate_krw_to_usd = 0.00074\n",
        "samsung_stock[['Open', 'High', 'Low', 'Close', 'Adj Close']] *= conversion_rate_krw_to_usd\n",
        "\n",
        "# Merge stock_prices and samsung_stock on Date\n",
        "merged_data = pd.merge(stock_prices, samsung_stock, on='Date', how='inner')\n",
        "\n",
        "# Select features and target variable for ML\n",
        "X = merged_data[['Copper_Price', 'Silver_Price', 'Apple_Price']]  # Example features\n",
        "y = merged_data['Close']  # Target variable for Samsung stock price in USD\n",
        "\n",
        "# Split the data\n",
        "from sklearn.model_selection import train_test_split\n",
        "X_train, X_test, y_train, y_test = train_test_split(X, y, test_size=0.2, random_state=42)\n",
        "from sklearn.ensemble import RandomForestRegressor\n",
        "from sklearn.metrics import mean_squared_error\n",
        "\n",
        "# Initialize and train the Random Forest model\n",
        "rf = RandomForestRegressor(n_estimators=300, random_state=42)\n",
        "rf.fit(X_train, y_train)\n",
        "\n",
        "# Predict on the test set\n",
        "rf_predictions = rf.predict(X_test)\n",
        "\n",
        "# Evaluate the model\n",
        "rf_mse = mean_squared_error(y_test, rf_predictions)\n",
        "print(f'Random Forest Mean Squared Error for Samsung: {rf_mse}')\n",
        "\n",
        "# Feature importance\n",
        "importances = rf.feature_importances_\n",
        "feature_names = X.columns\n",
        "feature_importance_df = pd.DataFrame({'feature': feature_names, 'importance': importances}).sort_values(by='importance', ascending=False)\n",
        "print(feature_importance_df)\n"
      ],
      "metadata": {
        "colab": {
          "base_uri": "https://localhost:8080/"
        },
        "id": "6sunSD5V62Bz",
        "outputId": "f57ea9d6-d341-4fdb-f376-fd0331e47a35"
      },
      "execution_count": 56,
      "outputs": [
        {
          "output_type": "stream",
          "name": "stdout",
          "text": [
            "Random Forest Mean Squared Error for Samsung: 2.590846147911629\n",
            "        feature  importance\n",
            "0  Copper_Price    0.693673\n",
            "2   Apple_Price    0.162856\n",
            "1  Silver_Price    0.143470\n"
          ]
        }
      ]
    },
    {
      "cell_type": "markdown",
      "source": [
        "Supervised Learning Model for Apple: Random Forest Regressor: Step 1 --> finding the optimal estimator value"
      ],
      "metadata": {
        "id": "pK8WOCX_qWYv"
      }
    },
    {
      "cell_type": "code",
      "source": [
        "import pandas as pd\n",
        "from sklearn.model_selection import train_test_split, GridSearchCV\n",
        "from sklearn.ensemble import RandomForestRegressor\n",
        "from sklearn.metrics import mean_squared_error\n",
        "import matplotlib.pyplot as plt\n",
        "\n",
        "# Load datasets\n",
        "stock_prices = pd.read_csv('Stock Market Dataset.csv')\n",
        "samsung_stock = pd.read_csv('005930.KS.csv')\n",
        "\n",
        "# Convert Date columns to datetime\n",
        "stock_prices['Date'] = pd.to_datetime(stock_prices['Date'], format='%d-%m-%Y')\n",
        "samsung_stock['Date'] = pd.to_datetime(samsung_stock['Date'], format='%Y-%m-%d')\n",
        "\n",
        "# Convert Samsung stock prices from KRW to USD\n",
        "conversion_rate_krw_to_usd = 0.00074\n",
        "samsung_stock[['Open', 'High', 'Low', 'Close', 'Adj Close']] *= conversion_rate_krw_to_usd\n",
        "\n",
        "# Merge stock_prices and samsung_stock on Date\n",
        "merged_data = pd.merge(stock_prices, samsung_stock, on='Date', how='inner')\n",
        "\n",
        "# Select features and target variable for ML\n",
        "X = merged_data[['Copper_Price', 'Silver_Price', 'Close']]  # Example features\n",
        "y = merged_data['Apple_Price']  # Target variable for Apple stock price in USD\n",
        "\n",
        "# Split the data\n",
        "X_train, X_test, y_train, y_test = train_test_split(X, y, test_size=0.2, random_state=42)\n",
        "\n",
        "# Initialize the Random Forest model\n",
        "rf = RandomForestRegressor(random_state=42)\n",
        "\n",
        "# Define a range of n_estimators to search\n",
        "param_grid = {'n_estimators': [50, 100, 150, 200, 250, 300]}\n",
        "\n",
        "# Perform grid search with cross-validation\n",
        "grid_search = GridSearchCV(rf, param_grid, cv=5, scoring='neg_mean_squared_error', n_jobs=-1)\n",
        "grid_search.fit(X_train, y_train)\n",
        "\n",
        "# Get the best number of estimators\n",
        "best_n_estimators = grid_search.best_params_['n_estimators']\n",
        "print(\"Best number of estimators:\", best_n_estimators)\n",
        "\n",
        "# Train the Random Forest model with the optimal number of estimators\n",
        "optimal_rf = RandomForestRegressor(n_estimators=best_n_estimators, random_state=42)\n",
        "optimal_rf.fit(X_train, y_train)\n",
        "\n",
        "# Predict on the test set\n",
        "rf_predictions = optimal_rf.predict(X_test)\n",
        "\n",
        "# Evaluate the model\n",
        "rf_mse = mean_squared_error(y_test, rf_predictions)\n",
        "print(f'Random Forest Mean Squared Error for Apple: {rf_mse}')\n",
        "\n",
        "# Feature importance\n",
        "importances = optimal_rf.feature_importances_\n",
        "feature_names = X.columns\n",
        "feature_importance_df = pd.DataFrame({'feature': feature_names, 'importance': importances}).sort_values(by='importance', ascending=False)\n",
        "print(feature_importance_df)\n",
        "\n",
        "# Plotting feature importances\n",
        "plt.figure(figsize=(10, 6))\n",
        "plt.title('Feature Importances')\n",
        "plt.bar(feature_importance_df['feature'], feature_importance_df['importance'], color='b', align='center')\n",
        "plt.xlabel('Feature')\n",
        "plt.ylabel('Importance')\n",
        "plt.show()\n"
      ],
      "metadata": {
        "colab": {
          "base_uri": "https://localhost:8080/",
          "height": 671
        },
        "id": "-ffIEgYRqV1V",
        "outputId": "c25abd62-5441-49ac-d806-811af7b28926"
      },
      "execution_count": 54,
      "outputs": [
        {
          "output_type": "stream",
          "name": "stdout",
          "text": [
            "Best number of estimators: 100\n",
            "Random Forest Mean Squared Error for Apple: 101.31075466555096\n",
            "        feature  importance\n",
            "0  Copper_Price    0.863220\n",
            "2         Close    0.100348\n",
            "1  Silver_Price    0.036432\n"
          ]
        },
        {
          "output_type": "display_data",
          "data": {
            "text/plain": [
              "<Figure size 1000x600 with 1 Axes>"
            ],
            "image/png": "[encoded data removed]"
          },
          "metadata": {}
        }
      ]
    },
    {
      "cell_type": "markdown",
      "source": [
        "Supervised Learning Model for Apple: Random Forest Regressor: Step 2 --> applying the estimator found above"
      ],
      "metadata": {
        "id": "F57FO_hL74gf"
      }
    },
    {
      "cell_type": "code",
      "source": [
        "import pandas as pd\n",
        "\n",
        "# Load datasets\n",
        "stock_prices = pd.read_csv('Stock Market Dataset.csv')\n",
        "samsung_stock = pd.read_csv('005930.KS.csv')\n",
        "\n",
        "# Convert Date columns to datetime\n",
        "stock_prices['Date'] = pd.to_datetime(stock_prices['Date'], format='%d-%m-%Y')\n",
        "samsung_stock['Date'] = pd.to_datetime(samsung_stock['Date'], format='%Y-%m-%d')\n",
        "\n",
        "# Convert Samsung stock prices from KRW to USD\n",
        "conversion_rate_krw_to_usd = 0.00074\n",
        "samsung_stock[['Open', 'High', 'Low', 'Close', 'Adj Close']] *= conversion_rate_krw_to_usd\n",
        "\n",
        "# Merge stock_prices and samsung_stock on Date\n",
        "merged_data = pd.merge(stock_prices, samsung_stock, on='Date', how='inner')\n",
        "\n",
        "# Select features and target variable for ML\n",
        "X = merged_data[['Copper_Price', 'Silver_Price', 'Close']]  # Example features\n",
        "y = merged_data['Apple_Price']  # Target variable for Samsung stock price in USD\n",
        "\n",
        "# Split the data\n",
        "from sklearn.model_selection import train_test_split\n",
        "X_train, X_test, y_train, y_test = train_test_split(X, y, test_size=0.2, random_state=42)\n",
        "from sklearn.ensemble import RandomForestRegressor\n",
        "from sklearn.metrics import mean_squared_error\n",
        "\n",
        "# Initialize and train the Random Forest model\n",
        "rf = RandomForestRegressor(n_estimators=100, random_state=42)\n",
        "rf.fit(X_train, y_train)\n",
        "\n",
        "# Predict on the test set\n",
        "rf_predictions = rf.predict(X_test)\n",
        "\n",
        "# Evaluate the model\n",
        "rf_mse = mean_squared_error(y_test, rf_predictions)\n",
        "print(f'Random Forest Mean Squared Error for Apple: {rf_mse}')\n",
        "\n",
        "# Feature importance\n",
        "importances = rf.feature_importances_\n",
        "feature_names = X.columns\n",
        "feature_importance_df = pd.DataFrame({'feature': feature_names, 'importance': importances}).sort_values(by='importance', ascending=False)\n",
        "print(feature_importance_df)\n"
      ],
      "metadata": {
        "colab": {
          "base_uri": "https://localhost:8080/"
        },
        "id": "E_MFivQi73gz",
        "outputId": "ea01f362-f304-4213-a5cd-431afd1b3121"
      },
      "execution_count": 57,
      "outputs": [
        {
          "output_type": "stream",
          "name": "stdout",
          "text": [
            "Random Forest Mean Squared Error for Apple: 101.31075466555096\n",
            "        feature  importance\n",
            "0  Copper_Price    0.863220\n",
            "2         Close    0.100348\n",
            "1  Silver_Price    0.036432\n"
          ]
        }
      ]
    },
    {
      "cell_type": "markdown",
      "source": [
        "Supervised Learning Model: kNN (k Nearest Neighbors) for Samsung: Step 1 --> choosing K values with elbow method and cross-validation"
      ],
      "metadata": {
        "id": "yvSsZx_QokTe"
      }
    },
    {
      "cell_type": "code",
      "source": [
        "import matplotlib.pyplot as plt\n",
        "import pandas as pd\n",
        "\n",
        "# Load datasets\n",
        "stock_prices = pd.read_csv('Stock Market Dataset.csv')\n",
        "samsung_stock = pd.read_csv('005930.KS.csv')\n",
        "\n",
        "# Convert Date columns to datetime\n",
        "stock_prices['Date'] = pd.to_datetime(stock_prices['Date'], format='%d-%m-%Y')\n",
        "samsung_stock['Date'] = pd.to_datetime(samsung_stock['Date'], format='%Y-%m-%d')\n",
        "\n",
        "# Convert Samsung stock prices from KRW to USD\n",
        "conversion_rate_krw_to_usd = 0.00074\n",
        "samsung_stock[['Open', 'High', 'Low', 'Close', 'Adj Close']] *= conversion_rate_krw_to_usd\n",
        "\n",
        "# Merge stock_prices and samsung_stock on Date\n",
        "merged_data = pd.merge(stock_prices, samsung_stock, on='Date', how='inner')\n",
        "# Perform kNN for various k values and calculate MSE\n",
        "k_values = range(1, 21)  # Example range from 1 to 20\n",
        "mse_values = []\n",
        "# Extract features and target variable\n",
        "features = merged_data[['Silver_Price', 'Copper_Price', 'Apple_Price']]\n",
        "target_samsung = merged_data['Close']  # Closing price of Samsung stock\n",
        "\n",
        "# Drop rows with missing values if any\n",
        "merged_data.dropna(subset=['Silver_Price', 'Copper_Price', 'Apple_Price', 'Close'], inplace=True)\n",
        "\n",
        "# Split the dataset into training and testing sets\n",
        "X_train, X_test, y_train, y_test = train_test_split(features, target_samsung, test_size=0.2, random_state=42)\n",
        "\n",
        "# Standardize the features\n",
        "scaler = StandardScaler()\n",
        "X_train_scaled = scaler.fit_transform(X_train)\n",
        "X_test_scaled = scaler.transform(X_test)\n",
        "\n",
        "for k in k_values:\n",
        "    knn = KNeighborsRegressor(n_neighbors=k)\n",
        "    knn.fit(X_train_scaled, y_train)\n",
        "    y_pred = knn.predict(X_test_scaled)\n",
        "    mse = mean_squared_error(y_test, y_pred)\n",
        "    mse_values.append(mse)\n",
        "\n",
        "# Plot MSE values for different k\n",
        "plt.plot(k_values, mse_values, marker='o')\n",
        "plt.xlabel('k')\n",
        "plt.ylabel('Mean Squared Error')\n",
        "plt.title('kNN: Mean Squared Error vs. k')\n",
        "plt.grid(True)\n",
        "plt.show()\n",
        "\n",
        "from sklearn.model_selection import cross_val_score\n",
        "cv_scores = []\n",
        "\n",
        "for k in k_values:\n",
        "    knn = KNeighborsRegressor(n_neighbors=k)\n",
        "    scores = cross_val_score(knn, X_train_scaled, y_train, cv=5, scoring='neg_mean_squared_error')\n",
        "    cv_scores.append(-scores.mean())  # Convert negative MSE to positive\n",
        "\n",
        "# Get the best k value based on cross-validation scores\n",
        "best_k = k_values[cv_scores.index(min(cv_scores))]\n",
        "print(\"Best k value:\", best_k)"
      ],
      "metadata": {
        "colab": {
          "base_uri": "https://localhost:8080/",
          "height": 490
        },
        "id": "ziIafH9Snk1T",
        "outputId": "3f2c14f3-228d-40a9-d5f3-5ead649367bf"
      },
      "execution_count": 50,
      "outputs": [
        {
          "output_type": "display_data",
          "data": {
            "text/plain": [
              "<Figure size 640x480 with 1 Axes>"
            ],
            "image/png": "[encoded data removed]"
          },
          "metadata": {}
        },
        {
          "output_type": "stream",
          "name": "stdout",
          "text": [
            "Best k value: 3\n"
          ]
        }
      ]
    },
    {
      "cell_type": "markdown",
      "source": [
        "Supervised Learning Model: kNN (k Nearest Neighbors) for Samsung: Step 2 --> applying the k value that found above"
      ],
      "metadata": {
        "id": "0WgHqViB4HBV"
      }
    },
    {
      "cell_type": "code",
      "source": [
        "import pandas as pd\n",
        "from sklearn.model_selection import train_test_split\n",
        "from sklearn.preprocessing import StandardScaler\n",
        "from sklearn.neighbors import KNeighborsRegressor\n",
        "from sklearn.metrics import mean_squared_error\n",
        "\n",
        "# Load datasets\n",
        "stock_prices = pd.read_csv('Stock Market Dataset.csv')\n",
        "samsung_stock = pd.read_csv('005930.KS.csv')\n",
        "global_phone_sales = pd.read_csv('global_phone_sales.csv', delimiter=';')\n",
        "\n",
        "# Convert Date columns to datetime\n",
        "stock_prices['Date'] = pd.to_datetime(stock_prices['Date'], format='%d-%m-%Y')\n",
        "samsung_stock['Date'] = pd.to_datetime(samsung_stock['Date'], format='%Y-%m-%d')\n",
        "global_phone_sales.columns = ['Index', 'Date', 'Number_of_smartphones_sold']\n",
        "global_phone_sales['Date'] = pd.to_datetime(global_phone_sales['Date'].astype(str) + '-01-01')\n",
        "\n",
        "# Convert Samsung stock prices from KRW to USD\n",
        "conversion_rate_krw_to_usd = 0.00074\n",
        "samsung_stock[['Open', 'High', 'Low', 'Close', 'Adj Close']] *= conversion_rate_krw_to_usd\n",
        "\n",
        "# Extract Year from Date columns\n",
        "stock_prices['Year'] = stock_prices['Date'].dt.year\n",
        "samsung_stock['Year'] = samsung_stock['Date'].dt.year\n",
        "global_phone_sales['Year'] = global_phone_sales['Date'].dt.year\n",
        "\n",
        "# Merge stock_prices and samsung_stock on Date\n",
        "merged_data = pd.merge(stock_prices, samsung_stock, on='Date', how='inner')\n",
        "\n",
        "# Extract features and target variable\n",
        "features = merged_data[['Silver_Price', 'Copper_Price', 'Apple_Price']]\n",
        "target_samsung = merged_data['Close']  # Closing price of Samsung stock\n",
        "\n",
        "# Drop rows with missing values if any\n",
        "merged_data.dropna(subset=['Silver_Price', 'Copper_Price', 'Apple_Price', 'Close'], inplace=True)\n",
        "\n",
        "# Split the dataset into training and testing sets\n",
        "X_train, X_test, y_train, y_test = train_test_split(features, target_samsung, test_size=0.2, random_state=42)\n",
        "\n",
        "# Standardize the features\n",
        "scaler = StandardScaler()\n",
        "X_train_scaled = scaler.fit_transform(X_train)\n",
        "X_test_scaled = scaler.transform(X_test)\n",
        "\n",
        "# Train the kNN model\n",
        "k = 3  # Number of neighbors\n",
        "knn = KNeighborsRegressor(n_neighbors=k)\n",
        "knn.fit(X_train_scaled, y_train)\n",
        "\n",
        "# Make predictions\n",
        "y_pred = knn.predict(X_test_scaled)\n",
        "\n",
        "# Evaluate the model\n",
        "mse = mean_squared_error(y_test, y_pred)\n",
        "print(\"kNN Mean Squared Error for Samsung:\", mse)\n",
        "\n",
        "\n"
      ],
      "metadata": {
        "colab": {
          "base_uri": "https://localhost:8080/"
        },
        "id": "Yz-IDSoj2Lc9",
        "outputId": "6baf29f7-2cff-436c-b887-80eb0670815b"
      },
      "execution_count": 51,
      "outputs": [
        {
          "output_type": "stream",
          "name": "stdout",
          "text": [
            "kNN Mean Squared Error for Samsung: 2.535464700094163\n"
          ]
        }
      ]
    },
    {
      "cell_type": "markdown",
      "source": [
        "Supervised Learning Model: kNN (k Nearest Neighbors) for Apple: Step 1 --> choosing K values with elbow method and cross-validation"
      ],
      "metadata": {
        "id": "xJnQVb93o-i2"
      }
    },
    {
      "cell_type": "code",
      "source": [
        "import matplotlib.pyplot as plt\n",
        "import pandas as pd\n",
        "\n",
        "# Load datasets\n",
        "stock_prices = pd.read_csv('Stock Market Dataset.csv')\n",
        "samsung_stock = pd.read_csv('005930.KS.csv')\n",
        "\n",
        "# Convert Date columns to datetime\n",
        "stock_prices['Date'] = pd.to_datetime(stock_prices['Date'], format='%d-%m-%Y')\n",
        "samsung_stock['Date'] = pd.to_datetime(samsung_stock['Date'], format='%Y-%m-%d')\n",
        "\n",
        "# Convert Samsung stock prices from KRW to USD\n",
        "conversion_rate_krw_to_usd = 0.00074\n",
        "samsung_stock[['Open', 'High', 'Low', 'Close', 'Adj Close']] *= conversion_rate_krw_to_usd\n",
        "\n",
        "# Merge stock_prices and samsung_stock on Date\n",
        "merged_data = pd.merge(stock_prices, samsung_stock, on='Date', how='inner')\n",
        "# Perform kNN for various k values and calculate MSE\n",
        "k_values = range(1, 21)  # Example range from 1 to 20\n",
        "mse_values = []\n",
        "# Extract features and target variable\n",
        "features = merged_data[['Silver_Price', 'Copper_Price', 'Close']]\n",
        "target_apple = merged_data['Apple_Price']  # Apple stock price\n",
        "\n",
        "# Drop rows with missing values if any\n",
        "merged_data.dropna(subset=['Silver_Price', 'Copper_Price', 'Apple_Price', 'Close'], inplace=True)\n",
        "\n",
        "# Split the dataset into training and testing sets\n",
        "X_train, X_test, y_train, y_test = train_test_split(features, target_apple, test_size=0.2, random_state=42)\n",
        "\n",
        "# Standardize the features\n",
        "scaler = StandardScaler()\n",
        "X_train_scaled = scaler.fit_transform(X_train)\n",
        "X_test_scaled = scaler.transform(X_test)\n",
        "\n",
        "for k in k_values:\n",
        "    knn = KNeighborsRegressor(n_neighbors=k)\n",
        "    knn.fit(X_train_scaled, y_train)\n",
        "    y_pred = knn.predict(X_test_scaled)\n",
        "    mse = mean_squared_error(y_test, y_pred)\n",
        "    mse_values.append(mse)\n",
        "\n",
        "# Plot MSE values for different k\n",
        "plt.plot(k_values, mse_values, marker='o')\n",
        "plt.xlabel('k')\n",
        "plt.ylabel('Mean Squared Error')\n",
        "plt.title('kNN: Mean Squared Error vs. k')\n",
        "plt.grid(True)\n",
        "plt.show()\n",
        "\n",
        "from sklearn.model_selection import cross_val_score\n",
        "cv_scores = []\n",
        "\n",
        "for k in k_values:\n",
        "    knn = KNeighborsRegressor(n_neighbors=k)\n",
        "    scores = cross_val_score(knn, X_train_scaled, y_train, cv=5, scoring='neg_mean_squared_error')\n",
        "    cv_scores.append(-scores.mean())  # Convert negative MSE to positive\n",
        "\n",
        "# Get the best k value based on cross-validation scores\n",
        "best_k = k_values[cv_scores.index(min(cv_scores))]\n",
        "print(\"Best k value:\", best_k)"
      ],
      "metadata": {
        "colab": {
          "base_uri": "https://localhost:8080/",
          "height": 490
        },
        "id": "QJmTbp7ao9nQ",
        "outputId": "84e84cc3-1a34-4999-8100-63d872c397bc"
      },
      "execution_count": 52,
      "outputs": [
        {
          "output_type": "display_data",
          "data": {
            "text/plain": [
              "<Figure size 640x480 with 1 Axes>"
            ],
            "image/png": "[encoded data removed]"
          },
          "metadata": {}
        },
        {
          "output_type": "stream",
          "name": "stdout",
          "text": [
            "Best k value: 4\n"
          ]
        }
      ]
    },
    {
      "cell_type": "markdown",
      "source": [
        "Supervised Learning Model: kNN (k Nearest Neighbors) for Apple: Step 2 --> applying the k value that found above"
      ],
      "metadata": {
        "id": "ZYVcnDMS4l48"
      }
    },
    {
      "cell_type": "code",
      "source": [
        "import pandas as pd\n",
        "from sklearn.model_selection import train_test_split\n",
        "from sklearn.preprocessing import StandardScaler\n",
        "from sklearn.neighbors import KNeighborsRegressor\n",
        "from sklearn.metrics import mean_squared_error\n",
        "\n",
        "# Load datasets\n",
        "stock_prices = pd.read_csv('Stock Market Dataset.csv')\n",
        "samsung_stock = pd.read_csv('005930.KS.csv')\n",
        "global_phone_sales = pd.read_csv('global_phone_sales.csv', delimiter=';')\n",
        "\n",
        "# Convert Date columns to datetime\n",
        "stock_prices['Date'] = pd.to_datetime(stock_prices['Date'], format='%d-%m-%Y')\n",
        "samsung_stock['Date'] = pd.to_datetime(samsung_stock['Date'], format='%Y-%m-%d')\n",
        "global_phone_sales.columns = ['Index', 'Date', 'Number_of_smartphones_sold']\n",
        "global_phone_sales['Date'] = pd.to_datetime(global_phone_sales['Date'].astype(str) + '-01-01')\n",
        "\n",
        "# Convert Samsung stock prices from KRW to USD\n",
        "conversion_rate_krw_to_usd = 0.00074\n",
        "samsung_stock[['Open', 'High', 'Low', 'Close', 'Adj Close']] *= conversion_rate_krw_to_usd\n",
        "\n",
        "# Extract Year from Date columns\n",
        "stock_prices['Year'] = stock_prices['Date'].dt.year\n",
        "samsung_stock['Year'] = samsung_stock['Date'].dt.year\n",
        "global_phone_sales['Year'] = global_phone_sales['Date'].dt.year\n",
        "\n",
        "# Merge stock_prices and samsung_stock on Date\n",
        "merged_data = pd.merge(stock_prices, samsung_stock, on='Date', how='inner')\n",
        "\n",
        "# Extract features and target variable\n",
        "features = merged_data[['Silver_Price', 'Copper_Price', 'Close']]\n",
        "target_apple = merged_data['Apple_Price']  # Closing price of Apple stock\n",
        "\n",
        "# Drop rows with missing values if any\n",
        "merged_data.dropna(subset=['Silver_Price', 'Copper_Price', 'Apple_Price', 'Close'], inplace=True)\n",
        "\n",
        "# Split the dataset into training and testing sets\n",
        "X_train, X_test, y_train, y_test = train_test_split(features, target_samsung, test_size=0.2, random_state=42)\n",
        "\n",
        "# Standardize the features\n",
        "scaler = StandardScaler()\n",
        "X_train_scaled = scaler.fit_transform(X_train)\n",
        "X_test_scaled = scaler.transform(X_test)\n",
        "\n",
        "# Train the kNN model\n",
        "k = 4  # Number of neighbors\n",
        "knn = KNeighborsRegressor(n_neighbors=k)\n",
        "knn.fit(X_train_scaled, y_train)\n",
        "\n",
        "# Make predictions\n",
        "y_pred = knn.predict(X_test_scaled)\n",
        "\n",
        "# Evaluate the model\n",
        "mse = mean_squared_error(y_test, y_pred)\n",
        "print(\"kNN Mean Squared Error for Apple:\", mse)\n",
        "\n",
        "\n"
      ],
      "metadata": {
        "colab": {
          "base_uri": "https://localhost:8080/"
        },
        "id": "Iy76-cwK4lNT",
        "outputId": "be9fa2dd-2a6d-40f6-99df-f31ec525ec37"
      },
      "execution_count": 53,
      "outputs": [
        {
          "output_type": "stream",
          "name": "stdout",
          "text": [
            "kNN Mean Squared Error for Apple: 0.17723075450211884\n"
          ]
        }
      ]
    }
  ]
}